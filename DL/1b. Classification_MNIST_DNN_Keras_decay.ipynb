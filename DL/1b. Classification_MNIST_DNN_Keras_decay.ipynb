{
 "cells": [
  {
   "cell_type": "markdown",
   "metadata": {
    "colab_type": "text",
    "id": "2FOkt_PVMd6h",
    "slideshow": {
     "slide_type": "slide"
    }
   },
   "source": [
    "### Load tensorflow"
   ]
  },
  {
   "cell_type": "code",
   "execution_count": 1,
   "metadata": {
    "colab": {},
    "colab_type": "code",
    "id": "QknvBKm3Md6j"
   },
   "outputs": [],
   "source": [
    "import tensorflow as tf\n",
    "tf.random.set_seed(42)"
   ]
  },
  {
   "cell_type": "markdown",
   "metadata": {
    "colab_type": "text",
    "id": "QHbDtQQJMd6m",
    "slideshow": {
     "slide_type": "slide"
    }
   },
   "source": [
    "### Collect Data"
   ]
  },
  {
   "cell_type": "code",
   "execution_count": 2,
   "metadata": {
    "colab": {},
    "colab_type": "code",
    "id": "AJ6bJeCGMd6n"
   },
   "outputs": [],
   "source": [
    "(trainX, trainY),(testX, testY) = tf.keras.datasets.mnist.load_data()"
   ]
  },
  {
   "cell_type": "markdown",
   "metadata": {
    "colab_type": "text",
    "id": "8rxmqpkpMd6r",
    "slideshow": {
     "slide_type": "slide"
    }
   },
   "source": [
    "### Convert Output label to multiple values"
   ]
  },
  {
   "cell_type": "code",
   "execution_count": 3,
   "metadata": {
    "colab": {},
    "colab_type": "code",
    "id": "Jr8yucgyMd6s"
   },
   "outputs": [],
   "source": [
    "trainY = tf.keras.utils.to_categorical(trainY, num_classes=10)\n",
    "testY = tf.keras.utils.to_categorical(testY, num_classes=10)"
   ]
  },
  {
   "cell_type": "markdown",
   "metadata": {
    "colab_type": "text",
    "id": "nACcpZ6oMd6z",
    "slideshow": {
     "slide_type": "slide"
    }
   },
   "source": [
    "## Build the Graph"
   ]
  },
  {
   "cell_type": "code",
   "execution_count": 4,
   "metadata": {
    "colab": {},
    "colab_type": "code",
    "id": "9h6GBSH6Md61"
   },
   "outputs": [],
   "source": [
    "#Initialize Sequential model\n",
    "model = tf.keras.models.Sequential()\n",
    "\n",
    "#Reshape data from 2D to 1D -> 28x28 to 784\n",
    "model.add(tf.keras.layers.Reshape((784,),input_shape=(28,28,)))\n",
    "\n",
    "#Normalize the data\n",
    "model.add(tf.keras.layers.BatchNormalization())"
   ]
  },
  {
   "cell_type": "markdown",
   "metadata": {
    "colab_type": "text",
    "id": "imGSX5XjMd66",
    "slideshow": {
     "slide_type": "slide"
    }
   },
   "source": [
    "## Build the Graph..."
   ]
  },
  {
   "cell_type": "code",
   "execution_count": 5,
   "metadata": {
    "colab": {},
    "colab_type": "code",
    "id": "Oj8TnaTxMd68",
    "slideshow": {
     "slide_type": "fragment"
    }
   },
   "outputs": [],
   "source": [
    "#Add 1st hidden layer\n",
    "model.add(tf.keras.layers.Dense(200, activation='relu'))"
   ]
  },
  {
   "cell_type": "code",
   "execution_count": 6,
   "metadata": {
    "colab": {},
    "colab_type": "code",
    "id": "BQvERJeKMd7A",
    "slideshow": {
     "slide_type": "fragment"
    }
   },
   "outputs": [],
   "source": [
    "#Add 2nd hidden layer\n",
    "model.add(tf.keras.layers.Dense(100, activation='relu'))\n",
    "model.add(tf.keras.layers.BatchNormalization())"
   ]
  },
  {
   "cell_type": "code",
   "execution_count": 7,
   "metadata": {
    "colab": {},
    "colab_type": "code",
    "id": "pwcz87-MMd7E",
    "slideshow": {
     "slide_type": "fragment"
    }
   },
   "outputs": [],
   "source": [
    "#Add 3rd hidden layer\n",
    "model.add(tf.keras.layers.Dense(60, activation='relu'))\n",
    "model.add(tf.keras.layers.BatchNormalization())"
   ]
  },
  {
   "cell_type": "code",
   "execution_count": 8,
   "metadata": {
    "colab": {},
    "colab_type": "code",
    "id": "C4j9Cm1IMd7J",
    "slideshow": {
     "slide_type": "fragment"
    }
   },
   "outputs": [],
   "source": [
    "#Add 4th hidden layer\n",
    "model.add(tf.keras.layers.Dense(30, activation='relu'))"
   ]
  },
  {
   "cell_type": "code",
   "execution_count": 9,
   "metadata": {
    "colab": {},
    "colab_type": "code",
    "id": "G05v_Zy9Md7Q",
    "slideshow": {
     "slide_type": "fragment"
    }
   },
   "outputs": [],
   "source": [
    "#Add OUTPUT layer\n",
    "model.add(tf.keras.layers.Dense(10, activation='softmax'))"
   ]
  },
  {
   "cell_type": "markdown",
   "metadata": {
    "colab_type": "text",
    "id": "pYNxSLydMd7U",
    "slideshow": {
     "slide_type": "slide"
    }
   },
   "source": [
    "## Build the Graph..."
   ]
  },
  {
   "cell_type": "code",
   "execution_count": 10,
   "metadata": {
    "colab": {},
    "colab_type": "code",
    "id": "FJWmzZ2vMd7W",
    "slideshow": {
     "slide_type": "fragment"
    }
   },
   "outputs": [],
   "source": [
    "#Create optimizer with non-default learning rate\n",
    "sgd_optimizer = tf.keras.optimizers.legacy.SGD(learning_rate=0.03, decay=0.001)\n",
    "\n",
    "#Compile the model\n",
    "model.compile(optimizer=sgd_optimizer, loss='categorical_crossentropy', metrics=['accuracy'])"
   ]
  },
  {
   "cell_type": "markdown",
   "metadata": {
    "colab_type": "text",
    "id": "gW7j_VfVMd7a",
    "slideshow": {
     "slide_type": "slide"
    }
   },
   "source": [
    "## Review model"
   ]
  },
  {
   "cell_type": "code",
   "execution_count": 11,
   "metadata": {
    "colab": {},
    "colab_type": "code",
    "id": "ghrWVH2ZMd7b"
   },
   "outputs": [
    {
     "name": "stdout",
     "output_type": "stream",
     "text": [
      "Model: \"sequential\"\n",
      "_________________________________________________________________\n",
      " Layer (type)                Output Shape              Param #   \n",
      "=================================================================\n",
      " reshape (Reshape)           (None, 784)               0         \n",
      "                                                                 \n",
      " batch_normalization (Batch  (None, 784)               3136      \n",
      " Normalization)                                                  \n",
      "                                                                 \n",
      " dense (Dense)               (None, 200)               157000    \n",
      "                                                                 \n",
      " dense_1 (Dense)             (None, 100)               20100     \n",
      "                                                                 \n",
      " batch_normalization_1 (Bat  (None, 100)               400       \n",
      " chNormalization)                                                \n",
      "                                                                 \n",
      " dense_2 (Dense)             (None, 60)                6060      \n",
      "                                                                 \n",
      " batch_normalization_2 (Bat  (None, 60)                240       \n",
      " chNormalization)                                                \n",
      "                                                                 \n",
      " dense_3 (Dense)             (None, 30)                1830      \n",
      "                                                                 \n",
      " dense_4 (Dense)             (None, 10)                310       \n",
      "                                                                 \n",
      "=================================================================\n",
      "Total params: 189076 (738.58 KB)\n",
      "Trainable params: 187188 (731.20 KB)\n",
      "Non-trainable params: 1888 (7.38 KB)\n",
      "_________________________________________________________________\n"
     ]
    }
   ],
   "source": [
    "model.summary()"
   ]
  },
  {
   "cell_type": "markdown",
   "metadata": {
    "colab_type": "text",
    "id": "Lblu99B6Md7l",
    "slideshow": {
     "slide_type": "slide"
    }
   },
   "source": [
    "## Train the model"
   ]
  },
  {
   "cell_type": "code",
   "execution_count": 12,
   "metadata": {
    "colab": {},
    "colab_type": "code",
    "id": "HyDVYzwxMd7m"
   },
   "outputs": [
    {
     "name": "stdout",
     "output_type": "stream",
     "text": [
      "Epoch 1/30\n",
      "1875/1875 [==============================] - 58s 27ms/step - loss: 0.3383 - accuracy: 0.9009 - val_loss: 0.2466 - val_accuracy: 0.9467\n",
      "Epoch 2/30\n",
      "1875/1875 [==============================] - 53s 28ms/step - loss: 0.1675 - accuracy: 0.9500 - val_loss: 0.2398 - val_accuracy: 0.9560\n",
      "Epoch 3/30\n",
      "1875/1875 [==============================] - 46s 25ms/step - loss: 0.1345 - accuracy: 0.9596 - val_loss: 0.2922 - val_accuracy: 0.9564\n",
      "Epoch 4/30\n",
      "1875/1875 [==============================] - 47s 25ms/step - loss: 0.1210 - accuracy: 0.9626 - val_loss: 0.3447 - val_accuracy: 0.9572\n",
      "Epoch 5/30\n",
      "1875/1875 [==============================] - 48s 25ms/step - loss: 0.1092 - accuracy: 0.9671 - val_loss: 0.2620 - val_accuracy: 0.9596\n",
      "Epoch 6/30\n",
      "1875/1875 [==============================] - 46s 24ms/step - loss: 0.1035 - accuracy: 0.9682 - val_loss: 0.2851 - val_accuracy: 0.9609\n",
      "Epoch 7/30\n",
      "1875/1875 [==============================] - 47s 25ms/step - loss: 0.0965 - accuracy: 0.9700 - val_loss: 0.2495 - val_accuracy: 0.9603\n",
      "Epoch 8/30\n",
      "1875/1875 [==============================] - 53s 28ms/step - loss: 0.0933 - accuracy: 0.9706 - val_loss: 0.3491 - val_accuracy: 0.9611\n",
      "Epoch 9/30\n",
      "1875/1875 [==============================] - 49s 26ms/step - loss: 0.0908 - accuracy: 0.9722 - val_loss: 0.2831 - val_accuracy: 0.9600\n",
      "Epoch 10/30\n",
      "1875/1875 [==============================] - 48s 26ms/step - loss: 0.0858 - accuracy: 0.9737 - val_loss: 0.3060 - val_accuracy: 0.9611\n",
      "Epoch 11/30\n",
      "1875/1875 [==============================] - 47s 25ms/step - loss: 0.0840 - accuracy: 0.9733 - val_loss: 0.2522 - val_accuracy: 0.9621\n",
      "Epoch 12/30\n",
      "1875/1875 [==============================] - 45s 24ms/step - loss: 0.0817 - accuracy: 0.9751 - val_loss: 0.4750 - val_accuracy: 0.9604\n",
      "Epoch 13/30\n",
      "1875/1875 [==============================] - 49s 26ms/step - loss: 0.0767 - accuracy: 0.9760 - val_loss: 0.3369 - val_accuracy: 0.9618\n",
      "Epoch 14/30\n",
      "1875/1875 [==============================] - 65s 35ms/step - loss: 0.0772 - accuracy: 0.9759 - val_loss: 0.3887 - val_accuracy: 0.9612\n",
      "Epoch 15/30\n",
      "1875/1875 [==============================] - 51s 27ms/step - loss: 0.0751 - accuracy: 0.9769 - val_loss: 0.2258 - val_accuracy: 0.9623\n",
      "Epoch 16/30\n",
      "1875/1875 [==============================] - 47s 25ms/step - loss: 0.0753 - accuracy: 0.9767 - val_loss: 0.3290 - val_accuracy: 0.9638\n",
      "Epoch 17/30\n",
      "1875/1875 [==============================] - 48s 26ms/step - loss: 0.0729 - accuracy: 0.9774 - val_loss: 0.3101 - val_accuracy: 0.9641\n",
      "Epoch 18/30\n",
      "1875/1875 [==============================] - 50s 27ms/step - loss: 0.0717 - accuracy: 0.9778 - val_loss: 0.3267 - val_accuracy: 0.9623\n",
      "Epoch 19/30\n",
      "1875/1875 [==============================] - 53s 28ms/step - loss: 0.0714 - accuracy: 0.9775 - val_loss: 0.3271 - val_accuracy: 0.9621\n",
      "Epoch 20/30\n",
      "1875/1875 [==============================] - 59s 31ms/step - loss: 0.0693 - accuracy: 0.9780 - val_loss: 0.2646 - val_accuracy: 0.9625\n",
      "Epoch 21/30\n",
      "1875/1875 [==============================] - 50s 27ms/step - loss: 0.0686 - accuracy: 0.9783 - val_loss: 0.2664 - val_accuracy: 0.9628\n",
      "Epoch 22/30\n",
      "1875/1875 [==============================] - 50s 26ms/step - loss: 0.0682 - accuracy: 0.9786 - val_loss: 0.2934 - val_accuracy: 0.9632\n",
      "Epoch 23/30\n",
      "1875/1875 [==============================] - 50s 27ms/step - loss: 0.0677 - accuracy: 0.9786 - val_loss: 0.2362 - val_accuracy: 0.9633\n",
      "Epoch 24/30\n",
      "1875/1875 [==============================] - 49s 26ms/step - loss: 0.0644 - accuracy: 0.9799 - val_loss: 0.3068 - val_accuracy: 0.9636\n",
      "Epoch 25/30\n",
      "1875/1875 [==============================] - 51s 27ms/step - loss: 0.0650 - accuracy: 0.9797 - val_loss: 0.2698 - val_accuracy: 0.9642\n",
      "Epoch 26/30\n",
      "1875/1875 [==============================] - 55s 29ms/step - loss: 0.0671 - accuracy: 0.9787 - val_loss: 0.3531 - val_accuracy: 0.9640\n",
      "Epoch 27/30\n",
      "1875/1875 [==============================] - 49s 26ms/step - loss: 0.0630 - accuracy: 0.9804 - val_loss: 0.3463 - val_accuracy: 0.9619\n",
      "Epoch 28/30\n",
      "1875/1875 [==============================] - 51s 27ms/step - loss: 0.0645 - accuracy: 0.9799 - val_loss: 0.3653 - val_accuracy: 0.9623\n",
      "Epoch 29/30\n",
      "1278/1875 [===================>..........] - ETA: 14s - loss: 0.0610 - accuracy: 0.9812"
     ]
    }
   ],
   "source": [
    "model.fit(trainX,trainY,          \n",
    "          validation_data=(testX,testY),\n",
    "          epochs=30,\n",
    "          batch_size=32)"
   ]
  },
  {
   "cell_type": "code",
   "execution_count": 15,
   "metadata": {
    "colab": {},
    "colab_type": "code",
    "id": "CKZ7-LXUOGry"
   },
   "outputs": [],
   "source": [
    "model.save('mnist_dnn_v1.h5')"
   ]
  },
  {
   "cell_type": "code",
   "execution_count": 16,
   "metadata": {
    "colab": {},
    "colab_type": "code",
    "id": "1tqsaHC8BvJd"
   },
   "outputs": [
    {
     "name": "stdout",
     "output_type": "stream",
     "text": [
      " Volume in drive C is Windows\n",
      " Volume Serial Number is C6CE-F4F0\n",
      "\n",
      " Directory of C:\\Users\\dibya_xo5nlek\\Documents\\Documents\\DL\n",
      "\n",
      "08/05/2023  05:45 PM    <DIR>          .\n",
      "08/05/2023  05:45 PM    <DIR>          ..\n",
      "08/04/2023  10:40 PM    <DIR>          .ipynb_checkpoints\n",
      "08/05/2023  03:43 PM            50,621 1. Classification_MNIST_DNN_Keras.ipynb\n",
      "08/05/2023  03:53 PM            12,126 1a. MNIST_DNN_Keras_ADAM_RELU.ipynb\n",
      "08/05/2023  05:45 PM            14,161 1b. Classification_MNIST_DNN_Keras_decay.ipynb\n",
      "08/05/2023  04:56 PM            34,824 1c. Classification_MNIST_DNN_Keras - NN1.ipynb\n",
      "08/05/2023  04:29 PM            73,416 Improving the ML Model - Different techniques.ipynb\n",
      "08/04/2023  08:17 PM           555,008 Iris.ipynb\n",
      "08/05/2023  04:30 PM    <DIR>          logs\n",
      "08/05/2023  05:46 PM           796,432 mnist_dnn_v1.h5\n",
      "08/05/2023  12:55 PM            14,185 MNIST_FASHION_Exercise.ipynb\n",
      "08/05/2023  03:39 PM           809,600 mnist_sgd.h5\n",
      "08/05/2023  03:37 PM         1,579,480 mnist_sgd_mom.h5\n",
      "08/05/2023  04:20 PM         2,348,104 mnist_sigmoid_v1.h5\n",
      "08/05/2023  04:15 PM         2,349,136 mnist_v1.h5\n",
      "08/05/2023  04:44 PM         2,356,864 mnist_v1.hdf5\n",
      "08/05/2023  12:49 PM            23,323 SGD with Momemtum.xlsx\n",
      "              14 File(s)     11,017,280 bytes\n",
      "               4 Dir(s)  725,990,162,432 bytes free\n"
     ]
    }
   ],
   "source": [
    "!dir"
   ]
  }
 ],
 "metadata": {
  "colab": {
   "collapsed_sections": [],
   "name": "6. Classification_MNIST_DNN_Keras.ipynb",
   "private_outputs": true,
   "provenance": [],
   "version": "0.3.2"
  },
  "kernelspec": {
   "display_name": "Python 3 (ipykernel)",
   "language": "python",
   "name": "python3"
  },
  "language_info": {
   "codemirror_mode": {
    "name": "ipython",
    "version": 3
   },
   "file_extension": ".py",
   "mimetype": "text/x-python",
   "name": "python",
   "nbconvert_exporter": "python",
   "pygments_lexer": "ipython3",
   "version": "3.11.3"
  }
 },
 "nbformat": 4,
 "nbformat_minor": 1
}
