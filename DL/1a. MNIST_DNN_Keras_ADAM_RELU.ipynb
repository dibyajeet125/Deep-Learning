{
 "cells": [
  {
   "cell_type": "markdown",
   "metadata": {
    "id": "qh35hmHVZdQT"
   },
   "source": [
    "### Load tensorflow"
   ]
  },
  {
   "cell_type": "code",
   "execution_count": 1,
   "metadata": {
    "id": "1rcAtN0pZdQV"
   },
   "outputs": [],
   "source": [
    "import tensorflow as tf"
   ]
  },
  {
   "cell_type": "markdown",
   "metadata": {
    "id": "Y11A43ZMZdQY"
   },
   "source": [
    "### Collect Data"
   ]
  },
  {
   "cell_type": "code",
   "execution_count": 2,
   "metadata": {
    "id": "RZq7ZFRrZdQa"
   },
   "outputs": [],
   "source": [
    "(trainX, trainY),(testX, testY) = tf.keras.datasets.mnist.load_data()"
   ]
  },
  {
   "cell_type": "markdown",
   "metadata": {
    "id": "aXi0g_W4ZdQd"
   },
   "source": [
    "### Convert Output label to multiple values"
   ]
  },
  {
   "cell_type": "code",
   "execution_count": 3,
   "metadata": {
    "id": "gfnzlw63ZdQd"
   },
   "outputs": [],
   "source": [
    "trainY = tf.keras.utils.to_categorical(trainY, num_classes=10)\n",
    "testY = tf.keras.utils.to_categorical(testY, num_classes=10)"
   ]
  },
  {
   "cell_type": "markdown",
   "metadata": {
    "id": "qwuFteJtZdQg"
   },
   "source": [
    "## Build the Graph"
   ]
  },
  {
   "cell_type": "code",
   "execution_count": 4,
   "metadata": {
    "id": "JIxYulyzZdQi"
   },
   "outputs": [],
   "source": [
    "#Initialize model, reshape & normalize data\n",
    "tf.keras.backend.clear_session()\n",
    "model = tf.keras.models.Sequential()\n",
    "model.add(tf.keras.layers.Reshape((784,),input_shape=(28,28,)))\n",
    "model.add(tf.keras.layers.BatchNormalization())"
   ]
  },
  {
   "cell_type": "markdown",
   "metadata": {
    "id": "Fvm6VwiHZdQl"
   },
   "source": [
    "### Apply ReLU and Dropout"
   ]
  },
  {
   "cell_type": "code",
   "execution_count": 5,
   "metadata": {
    "id": "jhhfJ4mbZdQm"
   },
   "outputs": [],
   "source": [
    "#Hidden layers\n",
    "model.add(tf.keras.layers.Dense(200, activation='relu', name='Layer_1'))\n",
    "\n",
    "model.add(tf.keras.layers.BatchNormalization())\n",
    "\n",
    "model.add(tf.keras.layers.Dense(100, activation='relu', name='Layer_2'))\n",
    "model.add(tf.keras.layers.BatchNormalization())\n",
    "#Dropout layer\n",
    "model.add(tf.keras.layers.Dropout(0.5))\n",
    "\n",
    "#Hidden layers\n",
    "model.add(tf.keras.layers.Dense(60, activation='relu', name='Layer_3'))\n",
    "model.add(tf.keras.layers.BatchNormalization())\n",
    "model.add(tf.keras.layers.Dense(30, activation='relu', name='Layer_4'))\n",
    "\n",
    "#Dropout layer\n",
    "model.add(tf.keras.layers.Dropout(0.3))"
   ]
  },
  {
   "cell_type": "code",
   "execution_count": 6,
   "metadata": {
    "id": "PJMZ4SJrZdQp"
   },
   "outputs": [],
   "source": [
    "#Output layer\n",
    "model.add(tf.keras.layers.Dense(10, activation='softmax', name='Output'))"
   ]
  },
  {
   "cell_type": "code",
   "execution_count": 7,
   "metadata": {
    "id": "-LXtH2VMZdQs"
   },
   "outputs": [],
   "source": [
    "model.compile(optimizer='adam', loss='categorical_crossentropy', metrics=['accuracy'])"
   ]
  },
  {
   "cell_type": "code",
   "execution_count": 8,
   "metadata": {
    "id": "alQMllge-m0x"
   },
   "outputs": [
    {
     "name": "stdout",
     "output_type": "stream",
     "text": [
      "Model: \"sequential\"\n",
      "_________________________________________________________________\n",
      " Layer (type)                Output Shape              Param #   \n",
      "=================================================================\n",
      " reshape (Reshape)           (None, 784)               0         \n",
      "                                                                 \n",
      " batch_normalization (Batch  (None, 784)               3136      \n",
      " Normalization)                                                  \n",
      "                                                                 \n",
      " Layer_1 (Dense)             (None, 200)               157000    \n",
      "                                                                 \n",
      " batch_normalization_1 (Bat  (None, 200)               800       \n",
      " chNormalization)                                                \n",
      "                                                                 \n",
      " Layer_2 (Dense)             (None, 100)               20100     \n",
      "                                                                 \n",
      " batch_normalization_2 (Bat  (None, 100)               400       \n",
      " chNormalization)                                                \n",
      "                                                                 \n",
      " dropout (Dropout)           (None, 100)               0         \n",
      "                                                                 \n",
      " Layer_3 (Dense)             (None, 60)                6060      \n",
      "                                                                 \n",
      " batch_normalization_3 (Bat  (None, 60)                240       \n",
      " chNormalization)                                                \n",
      "                                                                 \n",
      " Layer_4 (Dense)             (None, 30)                1830      \n",
      "                                                                 \n",
      " dropout_1 (Dropout)         (None, 30)                0         \n",
      "                                                                 \n",
      " Output (Dense)              (None, 10)                310       \n",
      "                                                                 \n",
      "=================================================================\n",
      "Total params: 189876 (741.70 KB)\n",
      "Trainable params: 187588 (732.77 KB)\n",
      "Non-trainable params: 2288 (8.94 KB)\n",
      "_________________________________________________________________\n"
     ]
    }
   ],
   "source": [
    "model.summary()"
   ]
  },
  {
   "cell_type": "markdown",
   "metadata": {
    "id": "FiLAAEWIZdQu"
   },
   "source": [
    "### Execute Graph"
   ]
  },
  {
   "cell_type": "code",
   "execution_count": 9,
   "metadata": {
    "id": "AFPWXfPAZdQw",
    "scrolled": true
   },
   "outputs": [
    {
     "name": "stdout",
     "output_type": "stream",
     "text": [
      "Epoch 1/40\n",
      "1875/1875 [==============================] - 78s 33ms/step - loss: 0.5689 - accuracy: 0.8339 - val_loss: 0.3064 - val_accuracy: 0.9512\n",
      "Epoch 2/40\n",
      "1875/1875 [==============================] - 61s 32ms/step - loss: 0.2874 - accuracy: 0.9243 - val_loss: 0.2271 - val_accuracy: 0.9646\n",
      "Epoch 3/40\n",
      "1875/1875 [==============================] - 60s 32ms/step - loss: 0.2268 - accuracy: 0.9401 - val_loss: 0.2300 - val_accuracy: 0.9691\n",
      "Epoch 4/40\n",
      "1875/1875 [==============================] - 65s 35ms/step - loss: 0.1903 - accuracy: 0.9488 - val_loss: 0.3664 - val_accuracy: 0.9680\n",
      "Epoch 5/40\n",
      "1875/1875 [==============================] - 69s 37ms/step - loss: 0.1697 - accuracy: 0.9552 - val_loss: 0.3329 - val_accuracy: 0.9712\n",
      "Epoch 6/40\n",
      "1875/1875 [==============================] - 69s 37ms/step - loss: 0.1587 - accuracy: 0.9586 - val_loss: 0.3795 - val_accuracy: 0.9684\n",
      "Epoch 7/40\n",
      "1875/1875 [==============================] - 67s 36ms/step - loss: 0.1451 - accuracy: 0.9617 - val_loss: 0.3927 - val_accuracy: 0.9718\n",
      "Epoch 8/40\n",
      "1875/1875 [==============================] - 63s 34ms/step - loss: 0.1321 - accuracy: 0.9652 - val_loss: 0.5334 - val_accuracy: 0.9726\n",
      "Epoch 9/40\n",
      "1875/1875 [==============================] - 67s 35ms/step - loss: 0.1221 - accuracy: 0.9679 - val_loss: 0.5944 - val_accuracy: 0.9740\n",
      "Epoch 10/40\n",
      "1875/1875 [==============================] - 61s 32ms/step - loss: 0.1165 - accuracy: 0.9690 - val_loss: 0.4685 - val_accuracy: 0.9735\n",
      "Epoch 11/40\n",
      "1875/1875 [==============================] - 64s 34ms/step - loss: 0.1132 - accuracy: 0.9696 - val_loss: 0.6500 - val_accuracy: 0.9741\n",
      "Epoch 12/40\n",
      "1875/1875 [==============================] - 62s 33ms/step - loss: 0.1028 - accuracy: 0.9719 - val_loss: 0.4675 - val_accuracy: 0.9725\n",
      "Epoch 13/40\n",
      "1875/1875 [==============================] - 65s 35ms/step - loss: 0.0991 - accuracy: 0.9740 - val_loss: 0.5414 - val_accuracy: 0.9738\n",
      "Epoch 14/40\n",
      "1875/1875 [==============================] - 63s 34ms/step - loss: 0.0980 - accuracy: 0.9727 - val_loss: 0.9060 - val_accuracy: 0.9740\n",
      "Epoch 15/40\n",
      "1875/1875 [==============================] - 63s 33ms/step - loss: 0.0922 - accuracy: 0.9750 - val_loss: 0.5252 - val_accuracy: 0.9740\n",
      "Epoch 16/40\n",
      "1875/1875 [==============================] - 58s 31ms/step - loss: 0.0918 - accuracy: 0.9751 - val_loss: 0.9088 - val_accuracy: 0.9728\n",
      "Epoch 17/40\n",
      "1875/1875 [==============================] - 63s 34ms/step - loss: 0.0868 - accuracy: 0.9765 - val_loss: 0.7674 - val_accuracy: 0.9745\n",
      "Epoch 18/40\n",
      "1875/1875 [==============================] - 64s 34ms/step - loss: 0.0849 - accuracy: 0.9777 - val_loss: 0.5514 - val_accuracy: 0.9746\n",
      "Epoch 19/40\n",
      "1875/1875 [==============================] - 57s 30ms/step - loss: 0.0806 - accuracy: 0.9778 - val_loss: 0.4099 - val_accuracy: 0.9766\n",
      "Epoch 20/40\n",
      "1875/1875 [==============================] - 61s 33ms/step - loss: 0.0796 - accuracy: 0.9780 - val_loss: 0.5418 - val_accuracy: 0.9759\n",
      "Epoch 21/40\n",
      "1875/1875 [==============================] - 62s 33ms/step - loss: 0.0745 - accuracy: 0.9796 - val_loss: 0.5737 - val_accuracy: 0.9748\n",
      "Epoch 22/40\n",
      "1875/1875 [==============================] - 63s 34ms/step - loss: 0.0761 - accuracy: 0.9791 - val_loss: 0.6013 - val_accuracy: 0.9752\n",
      "Epoch 23/40\n",
      "1875/1875 [==============================] - 67s 36ms/step - loss: 0.0737 - accuracy: 0.9803 - val_loss: 0.8650 - val_accuracy: 0.9735\n",
      "Epoch 24/40\n",
      "1875/1875 [==============================] - 64s 34ms/step - loss: 0.0706 - accuracy: 0.9810 - val_loss: 0.5341 - val_accuracy: 0.9749\n",
      "Epoch 25/40\n",
      "1875/1875 [==============================] - 64s 34ms/step - loss: 0.0709 - accuracy: 0.9804 - val_loss: 0.5327 - val_accuracy: 0.9742\n",
      "Epoch 26/40\n",
      "1875/1875 [==============================] - 59s 32ms/step - loss: 0.0668 - accuracy: 0.9819 - val_loss: 1.1286 - val_accuracy: 0.9752\n",
      "Epoch 27/40\n",
      "1875/1875 [==============================] - 60s 32ms/step - loss: 0.0668 - accuracy: 0.9817 - val_loss: 1.1687 - val_accuracy: 0.9713\n",
      "Epoch 28/40\n",
      "1875/1875 [==============================] - 89s 47ms/step - loss: 0.0658 - accuracy: 0.9817 - val_loss: 0.7125 - val_accuracy: 0.9743\n",
      "Epoch 29/40\n",
      "1875/1875 [==============================] - 67s 36ms/step - loss: 0.0621 - accuracy: 0.9832 - val_loss: 0.5560 - val_accuracy: 0.9742\n",
      "Epoch 30/40\n",
      "1875/1875 [==============================] - 65s 35ms/step - loss: 0.0624 - accuracy: 0.9825 - val_loss: 0.4638 - val_accuracy: 0.9760\n",
      "Epoch 31/40\n",
      "1875/1875 [==============================] - 63s 34ms/step - loss: 0.0585 - accuracy: 0.9841 - val_loss: 0.7266 - val_accuracy: 0.9737\n",
      "Epoch 32/40\n",
      "1875/1875 [==============================] - 64s 34ms/step - loss: 0.0571 - accuracy: 0.9843 - val_loss: 0.5632 - val_accuracy: 0.9728\n",
      "Epoch 33/40\n",
      "1875/1875 [==============================] - 66s 35ms/step - loss: 0.0562 - accuracy: 0.9845 - val_loss: 0.6276 - val_accuracy: 0.9751\n",
      "Epoch 34/40\n",
      "1875/1875 [==============================] - 65s 35ms/step - loss: 0.0568 - accuracy: 0.9840 - val_loss: 0.5893 - val_accuracy: 0.9758\n",
      "Epoch 35/40\n",
      "1875/1875 [==============================] - 65s 35ms/step - loss: 0.0559 - accuracy: 0.9846 - val_loss: 0.7025 - val_accuracy: 0.9744\n",
      "Epoch 36/40\n",
      "1875/1875 [==============================] - 72s 38ms/step - loss: 0.0562 - accuracy: 0.9845 - val_loss: 0.6574 - val_accuracy: 0.9755\n",
      "Epoch 37/40\n",
      "1875/1875 [==============================] - 63s 34ms/step - loss: 0.0524 - accuracy: 0.9855 - val_loss: 0.8633 - val_accuracy: 0.9739\n",
      "Epoch 38/40\n",
      "1875/1875 [==============================] - 59s 31ms/step - loss: 0.0560 - accuracy: 0.9846 - val_loss: 0.7328 - val_accuracy: 0.9756\n",
      "Epoch 39/40\n",
      "1875/1875 [==============================] - 60s 32ms/step - loss: 0.0531 - accuracy: 0.9852 - val_loss: 0.7706 - val_accuracy: 0.9724\n",
      "Epoch 40/40\n",
      "1875/1875 [==============================] - 59s 32ms/step - loss: 0.0519 - accuracy: 0.9853 - val_loss: 0.5368 - val_accuracy: 0.9739\n"
     ]
    },
    {
     "data": {
      "text/plain": [
       "<keras.src.callbacks.History at 0x1b5b7addd50>"
      ]
     },
     "execution_count": 9,
     "metadata": {},
     "output_type": "execute_result"
    }
   ],
   "source": [
    "#Train the model\n",
    "model.fit(trainX,trainY,\n",
    "          validation_data=(testX,testY),\n",
    "          epochs=40,\n",
    "          batch_size=32)"
   ]
  },
  {
   "cell_type": "code",
   "execution_count": 10,
   "metadata": {
    "id": "Ly15Anl39ZCH",
    "scrolled": true
   },
   "outputs": [
    {
     "name": "stderr",
     "output_type": "stream",
     "text": [
      "C:\\Users\\dibya_xo5nlek\\AppData\\Roaming\\Python\\Python311\\site-packages\\keras\\src\\engine\\training.py:3000: UserWarning: You are saving your model as an HDF5 file via `model.save()`. This file format is considered legacy. We recommend using instead the native Keras format, e.g. `model.save('my_model.keras')`.\n",
      "  saving_api.save_model(\n"
     ]
    }
   ],
   "source": [
    "model.save('dnn_1.h5')"
   ]
  },
  {
   "cell_type": "code",
   "execution_count": 11,
   "metadata": {
    "id": "Cg4zjApq-eTI"
   },
   "outputs": [],
   "source": [
    "model = tf.keras.models.load_model('dnn_1.h5')"
   ]
  },
  {
   "cell_type": "code",
   "execution_count": 12,
   "metadata": {
    "id": "pAZxnFGX-kCj"
   },
   "outputs": [
    {
     "name": "stdout",
     "output_type": "stream",
     "text": [
      "Epoch 11/20\n",
      " 274/1875 [===>..........................] - ETA: 51s - loss: 0.0446 - accuracy: 0.9863"
     ]
    }
   ],
   "source": [
    "#Train the model\n",
    "model.fit(trainX,trainY,\n",
    "          epochs=20,\n",
    "          initial_epoch=10,\n",
    "          validation_data=(testX,testY),\n",
    "          batch_size=32)"
   ]
  },
  {
   "cell_type": "code",
   "execution_count": 13,
   "metadata": {
    "id": "lGjdyCJZ-sX0"
   },
   "outputs": [],
   "source": [
    "?model.fit"
   ]
  }
 ],
 "metadata": {
  "colab": {
   "collapsed_sections": [],
   "name": "1a. MNIST_DNN_Keras_ADAM_RELU.ipynb",
   "private_outputs": true,
   "provenance": []
  },
  "kernelspec": {
   "display_name": "Python 3 (ipykernel)",
   "language": "python",
   "name": "python3"
  },
  "language_info": {
   "codemirror_mode": {
    "name": "ipython",
    "version": 3
   },
   "file_extension": ".py",
   "mimetype": "text/x-python",
   "name": "python",
   "nbconvert_exporter": "python",
   "pygments_lexer": "ipython3",
   "version": "3.11.3"
  }
 },
 "nbformat": 4,
 "nbformat_minor": 1
}
